{
 "cells": [
  {
   "cell_type": "raw",
   "metadata": {},
   "source": [
    "# Variables are like an empty container. If you think this like a container box you can put multiple\n",
    "things in your boxes. Right? But there are some dependency. Every product has some unique\n",
    "container. You can not put fridge into your tv container/ box. Right? That’s like Python also has\n",
    "different types of boxes/containers. We call them Variables.\n",
    "0.1.1 Assigning Values to Variables\n",
    "We will use (=) to assign values to variables."
   ]
  },
  {
   "cell_type": "code",
   "execution_count": 2,
   "metadata": {},
   "outputs": [
    {
     "data": {
      "text/plain": [
       "str"
      ]
     },
     "execution_count": 2,
     "metadata": {},
     "output_type": "execute_result"
    }
   ],
   "source": [
    "a = 3 # \"=\" : assignment operator\n",
    "b = 4.1\n",
    "type(a) #check what type of vatiable it is\n",
    "c = \"the python\"\n",
    "type(c)"
   ]
  },
  {
   "cell_type": "code",
   "execution_count": 3,
   "metadata": {},
   "outputs": [
    {
     "name": "stdout",
     "output_type": "stream",
     "text": [
      "2\n",
      "2\n",
      "2\n",
      "2\n"
     ]
    }
   ],
   "source": [
    "a = b = c = d = 2\n",
    "print(a)\n",
    "print(b)\n",
    "print(c)\n",
    "print(d)"
   ]
  },
  {
   "cell_type": "code",
   "execution_count": 5,
   "metadata": {},
   "outputs": [
    {
     "name": "stdout",
     "output_type": "stream",
     "text": [
      "3\n",
      "14.5\n",
      "SHAKIL\n"
     ]
    }
   ],
   "source": [
    "a,b,c,d = 3, 14.5, \"SHAKIL\", \"hello world\"\n",
    "print(a)\n",
    "print(b)\n",
    "print(c)"
   ]
  },
  {
   "cell_type": "code",
   "execution_count": 6,
   "metadata": {},
   "outputs": [
    {
     "name": "stdout",
     "output_type": "stream",
     "text": [
      "hello world\n",
      "4\n",
      "3\n",
      "1\n",
      "6\n",
      "4\n"
     ]
    }
   ],
   "source": [
    "print(d)\n",
    "a,b,c,d = 4,3,1,6\n",
    "print(a)\n",
    "print(b)\n",
    "print(c)\n",
    "print(d)\n",
    "print(a)\n",
    "#mutable object\n",
    "#immutable object"
   ]
  },
  {
   "cell_type": "code",
   "execution_count": 7,
   "metadata": {},
   "outputs": [
    {
     "name": "stdout",
     "output_type": "stream",
     "text": [
      "Enter a temperature in Celcius: 21\n",
      "In Farenhite, that is  69.80000000000001\n"
     ]
    }
   ],
   "source": [
    "temp = eval(input(\"Enter a temperature in Celcius: \"))\n",
    "farenhite = 9/5*temp + 32\n",
    "print(\"In Farenhite, that is \", farenhite)"
   ]
  },
  {
   "cell_type": "code",
   "execution_count": 9,
   "metadata": {},
   "outputs": [
    {
     "name": "stdout",
     "output_type": "stream",
     "text": [
      "<class 'float'>\n",
      "5.0\n"
     ]
    }
   ],
   "source": [
    "a = 5\n",
    "b = float(a)\n",
    "print(type(b))\n",
    "print(b)"
   ]
  },
  {
   "cell_type": "code",
   "execution_count": 10,
   "metadata": {},
   "outputs": [
    {
     "name": "stdout",
     "output_type": "stream",
     "text": [
      "3\n",
      "2\n",
      "0.49999999999999994\n"
     ]
    }
   ],
   "source": [
    "import math\n",
    "a = 2.3\n",
    "b = math.ceil(a)\n",
    "print (b)\n",
    "c = math.floor(a)\n",
    "print(c)\n",
    "#trigonometry\n",
    "a = math.pi/6\n",
    "b = math.sin(a)\n",
    "print(b)"
   ]
  },
  {
   "cell_type": "code",
   "execution_count": 11,
   "metadata": {},
   "outputs": [
    {
     "name": "stdout",
     "output_type": "stream",
     "text": [
      "5.0\n",
      "6.0\n",
      "0.8760580505981934\n"
     ]
    }
   ],
   "source": [
    "import cmath\n",
    "a = 5\n",
    "b = 6\n",
    "z = complex(a,b) # 5+6i\n",
    "print(z.real)\n",
    "print(z.imag)\n",
    "print(cmath.phase(z))"
   ]
  },
  {
   "cell_type": "code",
   "execution_count": 12,
   "metadata": {},
   "outputs": [
    {
     "name": "stdout",
     "output_type": "stream",
     "text": [
      "False\n",
      "True\n",
      "False\n"
     ]
    }
   ],
   "source": [
    "a = True\n",
    "b = False\n",
    "print(a and b)\n",
    "print(a or b)\n",
    "print(not a)"
   ]
  },
  {
   "cell_type": "code",
   "execution_count": 20,
   "metadata": {},
   "outputs": [
    {
     "name": "stdout",
     "output_type": "stream",
     "text": [
      "   December 2020\n",
      "Mo Tu We Th Fr Sa Su\n",
      "    1  2  3  4  5  6\n",
      " 7  8  9 10 11 12 13\n",
      "14 15 16 17 18 19 20\n",
      "21 22 23 24 25 26 27\n",
      "28 29 30 31\n",
      "\n"
     ]
    }
   ],
   "source": [
    "##Let's do a interesting work\n",
    "import calendar\n",
    "yy = 2020 #year\n",
    "mm = 12 # month\n",
    "dd = 0\n",
    "#display the calendar\n",
    "print(calendar.month(yy,mm,dd))"
   ]
  },
  {
   "cell_type": "code",
   "execution_count": 23,
   "metadata": {},
   "outputs": [
    {
     "name": "stdout",
     "output_type": "stream",
     "text": [
      "Drink Tea\n",
      "Ah, it's nice\n"
     ]
    }
   ],
   "source": [
    "is_rain = False #boolean type\n",
    "if is_rain:\n",
    "    print('Drink coffee')\n",
    "else:\n",
    "    print(\"Drink Tea\")\n",
    "print(\"Ah, it's nice\")"
   ]
  },
  {
   "cell_type": "code",
   "execution_count": 24,
   "metadata": {},
   "outputs": [
    {
     "name": "stdout",
     "output_type": "stream",
     "text": [
      "Drink coffee\n"
     ]
    }
   ],
   "source": [
    "is_rain = True #boolean type\n",
    "is_weather_hot = True\n",
    "if is_rain:\n",
    "    print('Drink coffee')\n",
    "elif is_weather:\n",
    "    print('Drink Iced coffee')\n",
    "else:\n",
    "    print('Drink Tea')"
   ]
  },
  {
   "cell_type": "code",
   "execution_count": 25,
   "metadata": {},
   "outputs": [
    {
     "name": "stdout",
     "output_type": "stream",
     "text": [
      "Down Payment: $ 200000.0\n"
     ]
    }
   ],
   "source": [
    "price = 1000000\n",
    "has_good_credit = False\n",
    "if has_good_credit:\n",
    "    down_payment = 0.1 * price\n",
    "else:\n",
    "    down_payment = 0.2 * price\n",
    "print(\"Down Payment: $\",down_payment)"
   ]
  },
  {
   "cell_type": "markdown",
   "metadata": {},
   "source": [
    "okay now let’s use operators for making decision. Suppose you and your friends want to go for a\n",
    "tour. Now you have to decide where to go. if the weather is cold and foggy you might choose to go\n",
    "Sajek. But now a days this place is too much crowded so if it’s too much crowded you will move\n",
    "your plan towards Bandarban. But if it’s cold but not too much foggy you might want to decide\n",
    "to go to saint martin island as well. So how will you create a code out of it?\n",
    "Another problem: Suppose in a small company 10 people are working together in one team. Among\n",
    "them few are very hardworker. They also do overtime if needed. And some of them much lazy. So\n",
    "HR wanted to reward the hardworking employees. So HR declares those who will work more than\n",
    "40 hrs a week will get overtime pay (5% raise for every hour of extra work). General payment for\n",
    "the employees are hourly 1500 BDT."
   ]
  },
  {
   "cell_type": "code",
   "execution_count": 27,
   "metadata": {},
   "outputs": [
    {
     "name": "stdout",
     "output_type": "stream",
     "text": [
      "Bandarban\n"
     ]
    }
   ],
   "source": [
    "#cold and foggy = Sajek\n",
    "#cold and foggy and too_much_crowded = Bandarban\n",
    "#cold but not too much foggy = Saint martin\n",
    "_iscold=True\n",
    "_isfoggy= True\n",
    "_iscrowded=True\n",
    "if _iscold and _isfoggy and not _iscrowded:\n",
    "    print(\"Sajek\")\n",
    "elif _iscold and _isfoggy and _iscrowded:\n",
    "    print(\"Bandarban\")\n",
    "elif _iscold and not _isfoggy:\n",
    "    print(\"SaintMartin\")"
   ]
  },
  {
   "cell_type": "code",
   "execution_count": null,
   "metadata": {},
   "outputs": [],
   "source": []
  }
 ],
 "metadata": {
  "kernelspec": {
   "display_name": "Python 3",
   "language": "python",
   "name": "python3"
  },
  "language_info": {
   "codemirror_mode": {
    "name": "ipython",
    "version": 3
   },
   "file_extension": ".py",
   "mimetype": "text/x-python",
   "name": "python",
   "nbconvert_exporter": "python",
   "pygments_lexer": "ipython3",
   "version": "3.8.3"
  }
 },
 "nbformat": 4,
 "nbformat_minor": 4
}
